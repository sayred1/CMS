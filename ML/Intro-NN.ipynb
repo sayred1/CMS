{
 "cells": [
  {
   "cell_type": "markdown",
   "metadata": {},
   "source": [
    "# Gentle Introduction to Neural Network\n",
    "\n",
    "## Artificial Neural Networks\n",
    "\n",
    "A neural network algorithm contains the following items: \n",
    "\n",
    "**Architecture**. The architecture specifies what variables are involved in the network and their topological relationships – for example, the variables involved in a neural net might be the `weights` of the connections between the neurons, along with the activities of the `neurons`.\n",
    "\n",
    "**Activity rule**. Most neural network models have short time-scale dynamics: local rules define how the activities of the neurons change in response to each other. Typically the activity rule depends on the `weights` (the parameters) in the network.\n",
    "\n",
    "**Learning rule**. The learning rule specifies the way in which the neural network’s `weights` change with time. This learning is usually viewed as taking place on a longer time scale than the time scale of the dynamics under the activity rule. Usually the learning rule will depend on the activities of the neurons. It may also depend on the values of target values supplied by a teacher and on the current value of the weights.\n",
    "\n",
    "\n",
    "## A single neuron\n",
    "\n",
    "While the behavior of a large network of neurons is complex and intricate, we can easily understand the basic guiding principles by looking at a single neuron. Same as most complex systems, the behavior of the whole cannot be easily understood by knowing how a single component of the network operates. However, this will give us very valuable information and guide our intuition.\n",
    "\n",
    "We will study a single neuron for two reasons. First, many neural network models are built out of single neurons, so it is good to understand them in detail. And second, a single neuron is itself capable of ‘learning’ – indeed, various standard statistical methods can be viewed in terms of single neurons – so this model will serve as a first example of a supervised neural network.\n",
    "\n",
    "### Definition of a single neuron\n",
    "\n",
    "**Architecture**. A single neuron has a number $I$ of inputs $x_i$ and one output which we will here call $y$. (See figure below) Associated with each input is a weight $w_i (i = 1,\\cdots, I)$. There may be an additional parameter $w_0$ of the neuron called a bias which we may view as being the weight associated with an input $x_0$ which is permanently set to $1$. The single neuron is a feedforward device – the connections are directed from the inputs to the output of the neuron.\n",
    "\n",
    "**Activity rule**. The activity rule has two steps.\n",
    "\n",
    "1. First, in response to the imposed inputs x, we compute the activation of the neuron, $$ a =   \\sum_i w_ix_i, $$ where the sum is over $i = 0,\\cdots,I$ if there is a bias and $i = 1,\\cdots,I$ otherwise.\n",
    "\n",
    "2. Second, the output $y$ is set as a function $f(a)$ of the activation. The output is also called the activity of the neuron, not to be confused with the activation $a$. There are several possible activation functions; here are the most popular (We only list deterministic activation functions):\n",
    "    \n",
    "    - Linear: $$y(a) = a.$$\n",
    "    \n",
    "    - Sigmoid (logistic function): $$ y(a) = \\frac{1}{1+e^{-a}} $$\n",
    "    \n",
    "    - Sigmoid: $$ y(a) = \\tanh(a) = \\frac{e^a - e^{-a}}{e^a + e^{-a}}$$\n",
    "    \n",
    "    - Relu: $$ y(a) = \\max(0, a) $$\n",
    "    - softmax (suitable for classification): $$ y(a) = \\frac{e^{z_i}}{\\sum_{k=1}^{N}e^{z_k}}$$\n",
    "        \n",
    "<img src=\"img/neuron.png\" style=\"width: 250px;\"/>\n",
    "<center> Figure 1, Single neuron with weights $w$ and bias $w_0$</center>\n",
    "\n",
    "# Code of Single Neuron: Classfier\n",
    "Let us try to build up a single neuron to solve a simple problem of `binary classifier`. Suppose we have a series of two-dimensional points, which belongs to either class 1 or 2. How can we classify them automatically. \n",
    "Below is the dataset and how it looks like."
   ]
  },
  {
   "cell_type": "code",
   "execution_count": 2,
   "metadata": {},
   "outputs": [
    {
     "data": {
      "image/png": "[encoded data removed]",
      "text/plain": [
       "<Figure size 432x288 with 1 Axes>"
      ]
     },
     "metadata": {
      "needs_background": "light"
     },
     "output_type": "display_data"
    }
   ],
   "source": [
    "%matplotlib inline\n",
    "import matplotlib.pyplot as plt\n",
    "import numpy as np\n",
    "\n",
    "x = np.array([[1,2],[1,3],[1,5],[2,3],[2,4],[7,4],[5,6],[8,6],[9,7],[4,9.5]])\n",
    "Y = np.array([0,0,0,0,0,1,1,1,1,1])\n",
    "plt.scatter(x[:,0],x[:,1], c=Y)\n",
    "plt.show()"
   ]
  },
  {
   "cell_type": "markdown",
   "metadata": {},
   "source": [
    "# Code details of the Single Neuron model: \n",
    "- `Architecture`: We just need to set a single Neuron model. Since each sample has two data, we will have two weights (`w`) and one bias (`b`) for this model, so that the output is $$ y0 = w\\cdot x + b$$\n",
    "- `Activation function`: Let us just use the sigmoid function so that the final output is $$ f(x,w,b) = \\frac{1}{1+e^{-(w \\cdot x+b)}} $$\n",
    "\n",
    "- `Cost function`: Our goal is to find the parameters (`w` and `b`) which lead to the lowest cost function.\n",
    "$$ E(w, b) = \\frac{1}{2}\\sum_{n=1}^N (f_n(x_n,w,b) - y_n)^2$$\n",
    "where `n` loops over all samples.\n",
    "- `Learning rules`: In order to minimize the cost function, we need to update `w` and `b` iteratively accroding to the gradient descent algorithm. For this we will need to know how to calculate the gradident of the cost function with respect to `w` and `b`. For doing this, we need to apply the chain rule:\n",
    "$$ \\frac{\\partial E}{\\partial w_j} = \\frac{\\partial E}{\\partial f} \\frac{\\partial f}{\\partial y0} \\frac{\\partial y0} {\\partial w} = −\\sum_{n=1}^N (y_n − f_n) \\cdot y_n \\cdot (1-y_n) \\cdot x_n$$\n",
    "$$ \\frac{\\partial E}{\\partial b} = \\frac{\\partial E}{\\partial f} \\frac{\\partial f}{\\partial y0} \\frac{\\partial y0} {\\partial b} = −\\sum_{n=1}^N (y_n − f_n) \\cdot y_n \\cdot (1-y_n) $$\n"
   ]
  },
  {
   "cell_type": "code",
   "execution_count": 10,
   "metadata": {},
   "outputs": [
    {
     "name": "stdout",
     "output_type": "stream",
     "text": [
      "loss function at    0: 2.4243 \n"
     ]
    },
    {
     "data": {
      "text/plain": [
       "array([0.288922  , 0.25955975, 0.20693124, 0.43115956, 0.39537962,\n",
       "       0.96865722, 0.8310924 , 0.98029146, 0.98933749, 0.57579591])"
      ]
     },
     "execution_count": 10,
     "metadata": {},
     "output_type": "execute_result"
    }
   ],
   "source": [
    "\"\"\"\n",
    "Single Neuron Regression Model\n",
    "\"\"\"\n",
    "def singleNeuron(x, Y, learning_rate=1e-1, decay_rate=0.999, max_iter = 1000):\n",
    "    #Initialize the weight/bias\n",
    "    w0 = np.array([1,1])\n",
    "    b0 = 0\n",
    "    #here we create a list to track the evolution of w/bs\n",
    "    w_hist = np.zeros([max_iter,3])\n",
    "\n",
    "    for i in range(max_iter):\n",
    "        #forward\n",
    "        y0 = np.dot(x,w0)+b0\n",
    "        y = sigmoid(y0)\n",
    "\n",
    "        #calculate and print the loss\n",
    "        if i%1000==0:\n",
    "            print('loss function at {:4d}: {:6.4f} '.format(i, cost(y, Y)))  \n",
    "            \n",
    "        #backpropagation\n",
    "        g_output = y-Y\n",
    "        g_activation = y*(1-y)\n",
    "        tmp = g_output*g_activation\n",
    "        gw = np.dot(tmp,x) #element wise multiplication\n",
    "        gb = np.sum(gw)\n",
    "        \n",
    "        #update the w/b\n",
    "        w0 = w0 - learning_rate*(decay_rate**i)*gw\n",
    "        b0 = b0 - learning_rate*(decay_rate**i)*gb\n",
    "        w_hist[i,:] = np.array([b0, w0[0], w0[1]])\n",
    "        \n",
    "    return w_hist\n",
    "\n",
    "def sigmoid(v):\n",
    "    return 1./(1+np.exp(-v))\n",
    "\n",
    "def cost(y, y0):\n",
    "    return 0.5*np.sum(np.power(y-y0,2))\n",
    "\n",
    "def predict(x, w):\n",
    "    b = w[0]\n",
    "    w0 = w[1:]\n",
    "    return sigmoid(b + np.dot(x, w0))\n",
    "\n",
    "w_hist = singleNeuron(x, Y)\n",
    "predict(x, w_hist[-1])"
   ]
  },
  {
   "cell_type": "markdown",
   "metadata": {},
   "source": [
    "## Analyze the results\n",
    "We can understand the results by the following analytics:\n",
    "- check the progress of the learning, i.e, how the loss function progress\n",
    "- for a single neuron layer model, we are actually attempting to draw a decision boundary between class 1 and 2. Therefore, we can visualize this boundary"
   ]
  },
  {
   "cell_type": "code",
   "execution_count": 7,
   "metadata": {},
   "outputs": [
    {
     "data": {
      "image/png": "[encoded data removed]",
      "text/plain": [
       "<Figure size 432x288 with 1 Axes>"
      ]
     },
     "metadata": {
      "needs_background": "light"
     },
     "output_type": "display_data"
    }
   ],
   "source": [
    "# To monitor the progress of training\n",
    "loss = []\n",
    "for w in w_hist:\n",
    "    y = predict(x, w)\n",
    "    loss.append(cost(y, Y))\n",
    "plt.title('Training curve')\n",
    "plt.plot(range(len(loss)), loss)\n",
    "plt.xlabel('epoch')\n",
    "plt.ylabel('loss')\n",
    "plt.show()"
   ]
  },
  {
   "cell_type": "code",
   "execution_count": 8,
   "metadata": {},
   "outputs": [
    {
     "data": {
      "image/png": "[encoded data removed]",
      "text/plain": [
       "<Figure size 432x288 with 1 Axes>"
      ]
     },
     "metadata": {
      "needs_background": "light"
     },
     "output_type": "display_data"
    }
   ],
   "source": [
    "# To draw the decision boundary\n",
    "\n",
    "def line1(x, w):\n",
    "    return (-w[0] - x*w[1])/w[2]\n",
    "def line2(x, w):\n",
    "    return (1-w[0] - x*w[1])/w[2]\n",
    "\n",
    "plt.scatter(x[:,0],x[:,1], c=Y)\n",
    "\n",
    "x0 = np.linspace(0,10,20)\n",
    "y0 = line1(x0, w_hist[0])\n",
    "y1 = line2(x0, w_hist[0])\n",
    "plt.plot(x0, y0, label='initial-l')\n",
    "plt.plot(x0, y1, label='initial-h')\n",
    "\n",
    "#y0 = line1(x0, w_hist[int(len(w_hist)/2)])\n",
    "#y1 = line2(x0, w_hist[int(len(w_hist)/2)])\n",
    "#plt.plot(x0, y0, label='middle-l')\n",
    "#plt.plot(x0, y1, label='middle-h')\n",
    "\n",
    "\n",
    "y0 = line1(x0, w_hist[-1])\n",
    "y1 = line2(x0, w_hist[-1])\n",
    "plt.plot(x0, y0, label='final-l')\n",
    "plt.plot(x0, y1, label='final-h')\n",
    "\n",
    "\n",
    "plt.xlabel('x1')\n",
    "plt.ylabel('x2')\n",
    "plt.legend()\n",
    "plt.show()"
   ]
  },
  {
   "cell_type": "markdown",
   "metadata": {},
   "source": [
    "# Comments\n",
    "So far we have learned how to build a single neuron model to predict the values for an arbitray set of data. It works! However, this is not an optimal solution. What we did is actually to predict the values in a continous range. But for this perticular problem, our target values are either 0 or 1, which is a classification problem. Hence the following items can be improved:\n",
    "- `cost function`: Previsouly, we simply calculate the sum of squred difference, which is commonly called `MSE` loss function and used in the regression problem. For classification, a good choice is `log_loss`. \n",
    "$$ L = \\frac{1}{n} \\sum_{i=1}^n [y_i log(\\hat{y}_i) + (1-y_i)\\log(1-\\hat{y}_i)]$$\n",
    "```python\n",
    "def logloss(true_label, predicted, eps=1e-15):\n",
    "    p = np.clip(predicted, eps, 1 - eps)\n",
    "    if true_label == 1:\n",
    "        return -log(p)\n",
    "    else:\n",
    "        return -log(1 - p)\n",
    "```\n",
    "- `activation function`: Relu\n",
    "\n",
    "To increase the complexity further, let's do another model by doing classification for 3 different classes."
   ]
  }
 ],
 "metadata": {
  "kernelspec": {
   "display_name": "Python 3",
   "language": "python",
   "name": "python3"
  },
  "language_info": {
   "codemirror_mode": {
    "name": "ipython",
    "version": 3
   },
   "file_extension": ".py",
   "mimetype": "text/x-python",
   "name": "python",
   "nbconvert_exporter": "python",
   "pygments_lexer": "ipython3",
   "version": "3.7.1"
  }
 },
 "nbformat": 4,
 "nbformat_minor": 2
}
