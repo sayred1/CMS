{
 "cells": [
  {
   "cell_type": "markdown",
   "metadata": {},
   "source": [
    "# MLP classifier from scratch"
   ]
  },
  {
   "cell_type": "markdown",
   "metadata": {},
   "source": [
    "## To do:\n",
    "    1) try to add relu activation function for hidden layers\n",
    "    2) compare the results to scikit-learn, be aware that scikit-learn should perform better since the \n",
    "    MLPClassifier has many more parameters than the classifier from scratch does. \n",
    "    3) clean up the code\n",
    "    4) add softmax for output"
   ]
  },
  {
   "cell_type": "markdown",
   "metadata": {},
   "source": [
    "## Notes\n",
    "\n",
    "- Initially, my NN contained only one output neuron. By looking at the output intercepts from scikit-learn's MLP, I saw that they had 3 output neurons (each neuron serving as a probabilty of the output belonging to classes 1-3). Adopting this layout [178, 4, 4, 3] made the backpropogation step less complicated. The only odd step was having to reshape the target data loaded directly from scikit-learn which was done in the 4th cell.  \n",
    "- After doing a quick comparison with the scikit-learn MLP classifier, it's obvious that their classifier has the ability to converge much faster than this one.\n",
    "- learning curves look odd"
   ]
  },
  {
   "cell_type": "code",
   "execution_count": 1,
   "metadata": {},
   "outputs": [],
   "source": [
    "%matplotlib inline\n",
    "\n",
    "import numpy as np\n",
    "import sys\n",
    "import matplotlib.pyplot as plt\n",
    "from sklearn.metrics import accuracy_score\n",
    "import sklearn\n",
    "\n",
    "\n",
    "class my_MLPClassifier(object):\n",
    "    \"\"\"\n",
    "    Basic MultiLayer Perceptron (MLP) neural network.\n",
    "    Args:\n",
    "    hidden layer: []\n",
    "    max_iterations: []\n",
    "    \"\"\"\n",
    "    def __init__(self, hidden, max_iter, \n",
    "                 learning_rate, decay_rate, \n",
    "                 activation='sigmoid', loss='mse'):\n",
    "        \"\"\"\n",
    "        :param hidden: number of hidden neurons\n",
    "        :param iterations: how many epochs\n",
    "        :param learning_rate: initial learning rate\n",
    "        \"\"\"\n",
    "        # initialize input parameters\n",
    "        self.iterations = max_iter\n",
    "        self.learning_rate = learning_rate\n",
    "        self.decay_rate = decay_rate\n",
    "        self.n_hid1, self.n_hid2 = hidden[0], hidden[1]\n",
    "        self.activation_method = activation\n",
    "        self.loss_method = loss\n",
    "    \n",
    "    def fit(self, x, y):      \n",
    "        \"\"\"\n",
    "        input: [178, 13] = [example, wine features]\n",
    "        output: [178, 3] = [example, class probabilities] \n",
    "        \"\"\"\n",
    "        # Initialize the weights and bias according to the input/target data\n",
    "        dim_in, dim_out = x.shape[1], 3\n",
    "        self.w1 = np.random.randn(dim_in, self.n_hid1) # [13,4] -- 52 weights \n",
    "        self.w2 = np.random.randn(self.n_hid1, self.n_hid2) # [4,4] -- 16 weights\n",
    "        self.w3 = np.random.randn(self.n_hid2, dim_out) # [4,3] -- 12 weights\n",
    "        self.b1 = np.random.randn(1,self.n_hid1) # [1,4] -- 4 biases\n",
    "        self.b2 = np.random.randn(1,self.n_hid2) # [1,4] -- 4 biases\n",
    "        self.b3 = np.random.randn(1,dim_out)  # [1,3] -- 3 bias\n",
    "        loss_hist = [] # track loss for printing\n",
    "        \n",
    "        for i in range(self.iterations):\n",
    "            \n",
    "            # forward\n",
    "            (h1,h2,y_) = self.forward(x)\n",
    "            cost = self.log_loss(y_,y) \n",
    "            loss_hist.append(cost)\n",
    "            \n",
    "            # backprop\n",
    "            \n",
    "            # output layer, activation = sigmoid\n",
    "            delta3 = self.grad_loss(y_, y) * self.grad_sigmoid(y_) \n",
    "            gradw3 = np.dot(np.transpose(h2),delta3)\n",
    "            gradb3 = np.sum(delta3,axis = 0)\n",
    "            \n",
    "            # hidden layers, activation = sigmoid or tanh\n",
    "            delta2 = np.dot(delta3,np.transpose(self.w3)) * self.grad_activation(h2)\n",
    "            gradw2 = np.dot(np.transpose(h1),delta2)\n",
    "            gradb2 = np.sum(delta2,axis = 0)\n",
    "            \n",
    "            delta = np.dot(delta2,np.transpose(self.w2)) * self.grad_activation(h1)\n",
    "            gradw = np.dot(np.transpose(x),delta)\n",
    "            gradb = np.sum(delta,axis = 0)\n",
    "            \n",
    "            # update parameters\n",
    "            learning_rate = self.learning_rate * (self.decay_rate**i)\n",
    "            self.w3 += -learning_rate*gradw3\n",
    "            self.b3 += -learning_rate*gradb3\n",
    "            self.w2 += -learning_rate*gradw2\n",
    "            self.b2 += -learning_rate*gradb2\n",
    "            self.w1 += -learning_rate*gradw\n",
    "            self.b1 += -learning_rate*gradb\n",
    "        self.weights = (self.w3, self.w2, self.w1)\n",
    "        self.bias = (self.b3, self.b2, self.b1)\n",
    "        \n",
    "        # print the loss\n",
    "        print('activation function: %s, loss function: %s = %s, iterations: %s, learning rate: %s'\n",
    "              %(self.activation_method,self.loss_method,round(cost,3),self.iterations,self.learning_rate))\n",
    "        \n",
    "        # plot the training curve\n",
    "        plt.title('training curve')\n",
    "        plt.xlabel('epoch')\n",
    "        plt.ylabel('loss')\n",
    "        plt.plot(np.arange(0,self.iterations),loss_hist)\n",
    "        plt.show()\n",
    "        \n",
    "    def activation(self,x):\n",
    "        if self.activation_method == 'sigmoid':\n",
    "            return 1./(1+np.exp(-x))\n",
    "        elif self.activation_method == 'tanh':\n",
    "            return np.tanh(x)\n",
    "        else:\n",
    "            print('%s not a valid activation function' %(self.activation_method))\n",
    "\n",
    "\n",
    "    def log_loss(self,y_,y):\n",
    "        m = y_.shape[0]\n",
    "        if self.loss_method == 'logloss':\n",
    "            return -1/m * np.sum(y * np.log(y_))\n",
    "        elif self.loss_method == 'mse':\n",
    "            return 0.5/m * np.sum(np.power(y_-y,2))\n",
    "\n",
    "    def grad_loss(self,y_,y):\n",
    "        return  y_ - y\n",
    "\n",
    "    def grad_activation(self,x):\n",
    "        if self.activation_method == 'sigmoid': \n",
    "            return x * (1-x)\n",
    "        elif self.activation_method == 'tanh':\n",
    "            return 1 - x**2\n",
    "\n",
    "    def sigmoid(self,x):\n",
    "        return 1./(1+np.exp(-x))\n",
    "    def grad_sigmoid(self,x): \n",
    "        return x * (1-x)\n",
    "        \n",
    "    def forward(self,x):\n",
    "        h1 = np.dot(x,self.w1)+self.b1\n",
    "        h1 = self.activation(h1)\n",
    "        h2 = np.dot(h1,self.w2)+self.b2\n",
    "        h2 = self.activation(h2)\n",
    "        y_ = np.dot(h2,self.w3)+self.b3\n",
    "        y_ = self.sigmoid(y_) # always use sigmoid for output, commonly used for multi-classification problems\n",
    "        return(h1,h2,y_)\n",
    "    \n",
    "    def predict(self, x):\n",
    "        (h1, h2, y) = self.forward(x)\n",
    "        y_ = np.zeros(y.shape[0],int) # array to reshape predictions to (178,)\n",
    "        # this for loop goes through the predictions shaped (178,3) and places it into the same form as original target\n",
    "        # data size (178,) for comparison ~~ probably an easier way to do this\n",
    "        for i in range(len(y)):\n",
    "            for j in range(len(y[i])):\n",
    "                y[i,j] = round(y[i,j],0)\n",
    "            y_[i] = np.argmax(y[i])\n",
    "        \n",
    "        return y_\n"
   ]
  },
  {
   "cell_type": "code",
   "execution_count": 2,
   "metadata": {},
   "outputs": [
    {
     "name": "stdout",
     "output_type": "stream",
     "text": [
      "(178,) (178, 3)\n"
     ]
    }
   ],
   "source": [
    "from sklearn.datasets import load_wine\n",
    "from sklearn.preprocessing import StandardScaler\n",
    "\n",
    "np.random.seed(1000)\n",
    "\n",
    "# load the data\n",
    "data=load_wine()\n",
    "x,Y = data.data, data.target\n",
    "\n",
    "#scale the data\n",
    "scaler = StandardScaler()  \n",
    "scaler.fit(x)  \n",
    "x0 = scaler.transform(x)\n",
    "\n",
    "# here i reshape the target list (178,) to (178,3), might be a better way to do this\n",
    "y = np.zeros((178,3))\n",
    "for i in range(len(Y)):\n",
    "    if Y[i] == 0 :\n",
    "        y[i,0] = 1\n",
    "        y[i,1] = 0\n",
    "        y[i,2] = 0\n",
    "    elif Y[i] == 1:\n",
    "        y[i,0] = 0\n",
    "        y[i,1] = 1\n",
    "        y[i,2] = 0\n",
    "    else:\n",
    "        y[i,0] = 0\n",
    "        y[i,1] = 0\n",
    "        y[i,2] = 1\n",
    "print(Y.shape,y.shape)"
   ]
  },
  {
   "cell_type": "code",
   "execution_count": 3,
   "metadata": {},
   "outputs": [
    {
     "name": "stdout",
     "output_type": "stream",
     "text": [
      "activation function: tanh, loss function: mse = 0.02, iterations: 1000, learning rate: 0.01\n"
     ]
    },
    {
     "data": {
      "image/png": "[encoded data removed]",
      "text/plain": [
       "<Figure size 432x288 with 1 Axes>"
      ]
     },
     "metadata": {
      "needs_background": "light"
     },
     "output_type": "display_data"
    },
    {
     "name": "stdout",
     "output_type": "stream",
     "text": [
      "predicted values\n",
      "[0 0 0 0 0 0 0 0 0 0 0 0 0 0 0 0 0 0 0 0 0 0 0 0 0 0 0 0 0 0 0 0 0 0 0 0 0\n",
      " 0 0 0 0 0 0 0 0 0 0 0 0 0 0 0 0 0 0 0 0 0 0 1 1 1 1 1 1 1 1 1 1 1 1 1 1 0\n",
      " 1 1 1 1 1 1 1 1 1 1 1 1 1 1 1 1 1 1 1 1 1 0 1 1 1 1 1 1 1 1 1 1 1 1 1 1 1\n",
      " 1 1 1 1 1 1 1 1 1 1 1 1 1 1 1 1 1 1 1 2 2 2 2 2 2 2 2 2 2 2 2 2 2 2 2 2 2\n",
      " 2 2 2 2 2 2 2 2 2 2 2 2 2 2 2 2 2 2 2 2 2 2 2 2 2 2 2 2 2 2]\n",
      "target values\n",
      "[0 0 0 0 0 0 0 0 0 0 0 0 0 0 0 0 0 0 0 0 0 0 0 0 0 0 0 0 0 0 0 0 0 0 0 0 0\n",
      " 0 0 0 0 0 0 0 0 0 0 0 0 0 0 0 0 0 0 0 0 0 0 1 1 1 1 1 1 1 1 1 1 1 1 1 1 1\n",
      " 1 1 1 1 1 1 1 1 1 1 1 1 1 1 1 1 1 1 1 1 1 1 1 1 1 1 1 1 1 1 1 1 1 1 1 1 1\n",
      " 1 1 1 1 1 1 1 1 1 1 1 1 1 1 1 1 1 1 1 2 2 2 2 2 2 2 2 2 2 2 2 2 2 2 2 2 2\n",
      " 2 2 2 2 2 2 2 2 2 2 2 2 2 2 2 2 2 2 2 2 2 2 2 2 2 2 2 2 2 2]\n",
      "accuracy after 1000 iterations is: 98.9 percent\n"
     ]
    },
    {
     "data": {
      "image/png": "[encoded data removed]",
      "text/plain": [
       "<Figure size 432x288 with 1 Axes>"
      ]
     },
     "metadata": {
      "needs_background": "light"
     },
     "output_type": "display_data"
    }
   ],
   "source": [
    "max_iter=1000\n",
    "my_mlp = my_MLPClassifier(hidden=[4,4],max_iter=max_iter,learning_rate=0.01,decay_rate=0.99,\n",
    "                          activation='tanh',loss='mse')\n",
    "my_mlp.fit(x0,y)\n",
    "y_ = my_mlp.predict(x0) # predictions in shape (173,3)\n",
    "print('predicted values')\n",
    "print(y_) \n",
    "print('target values')\n",
    "print(Y) \n",
    "count = 0\n",
    "for i in range(len(y_)):\n",
    "    if y_[i] == Y[i]:\n",
    "        count += 1\n",
    "print('accuracy after %s iterations is: %s percent' %(max_iter,100*round(count/len(y_),3)))\n",
    "\n",
    "# look at distribution of the weights\n",
    "w1 = my_mlp.weights[0].flatten()\n",
    "w2 = my_mlp.weights[1].flatten()\n",
    "w3 = my_mlp.weights[2].flatten()\n",
    "plt.title('weight distribution')\n",
    "plt.hist(w1, alpha=0.5, label='w1-'+str(len(w1)))\n",
    "plt.hist(w2, alpha=0.5, label='w2-'+str(len(w2)))\n",
    "plt.hist(w3, alpha=0.5, label='w3-'+str(len(w3)))\n",
    "plt.legend()\n",
    "plt.show()"
   ]
  },
  {
   "cell_type": "code",
   "execution_count": 4,
   "metadata": {},
   "outputs": [
    {
     "name": "stdout",
     "output_type": "stream",
     "text": [
      "activation function: tanh, loss function: logloss = 0.17, iterations: 1000, learning rate: 0.01\n"
     ]
    },
    {
     "data": {
      "image/png": "[encoded data removed]",
      "text/plain": [
       "<Figure size 432x288 with 1 Axes>"
      ]
     },
     "metadata": {
      "needs_background": "light"
     },
     "output_type": "display_data"
    },
    {
     "name": "stdout",
     "output_type": "stream",
     "text": [
      "predicted values\n",
      "[0 0 0 0 0 0 0 0 0 0 0 0 0 0 0 0 0 0 0 0 0 1 0 1 0 0 0 0 0 0 0 0 0 0 0 0 0\n",
      " 0 0 0 0 0 0 0 0 0 0 0 0 0 0 0 0 0 0 0 0 0 0 1 1 1 1 1 1 1 1 1 1 1 1 1 1 1\n",
      " 1 1 1 1 1 1 1 1 1 1 1 1 1 1 1 1 1 1 1 1 1 1 1 1 1 1 1 1 1 1 1 1 1 1 1 1 1\n",
      " 1 1 1 1 1 1 1 1 1 1 0 1 1 1 1 0 1 1 1 2 2 2 2 2 2 2 2 2 2 2 2 2 2 2 2 2 2\n",
      " 2 2 2 2 2 2 2 2 2 2 2 2 2 2 2 2 2 2 2 2 2 2 2 2 2 2 2 2 2 2]\n",
      "target values\n",
      "[0 0 0 0 0 0 0 0 0 0 0 0 0 0 0 0 0 0 0 0 0 0 0 0 0 0 0 0 0 0 0 0 0 0 0 0 0\n",
      " 0 0 0 0 0 0 0 0 0 0 0 0 0 0 0 0 0 0 0 0 0 0 1 1 1 1 1 1 1 1 1 1 1 1 1 1 1\n",
      " 1 1 1 1 1 1 1 1 1 1 1 1 1 1 1 1 1 1 1 1 1 1 1 1 1 1 1 1 1 1 1 1 1 1 1 1 1\n",
      " 1 1 1 1 1 1 1 1 1 1 1 1 1 1 1 1 1 1 1 2 2 2 2 2 2 2 2 2 2 2 2 2 2 2 2 2 2\n",
      " 2 2 2 2 2 2 2 2 2 2 2 2 2 2 2 2 2 2 2 2 2 2 2 2 2 2 2 2 2 2]\n",
      "accuracy after 1000 iterations is: 97.8 percent\n"
     ]
    },
    {
     "data": {
      "image/png": "[encoded data removed]",
      "text/plain": [
       "<Figure size 432x288 with 1 Axes>"
      ]
     },
     "metadata": {
      "needs_background": "light"
     },
     "output_type": "display_data"
    }
   ],
   "source": [
    "max_iter=1000\n",
    "my_mlp = my_MLPClassifier(hidden=[4,4],max_iter=max_iter,learning_rate=0.01,decay_rate=0.99,\n",
    "                          activation='tanh',loss='logloss')\n",
    "my_mlp.fit(x0,y)\n",
    "y_ = my_mlp.predict(x0) # predictions in shape (173,3)\n",
    "print('predicted values')\n",
    "print(y_) \n",
    "print('target values')\n",
    "print(Y) \n",
    "count = 0\n",
    "for i in range(len(y_)):\n",
    "    if y_[i] == Y[i]:\n",
    "        count += 1\n",
    "print('accuracy after %s iterations is: %s percent' %(max_iter,100*round(count/len(y_),3)))\n",
    "\n",
    "# look at distribution of the weights\n",
    "w1 = my_mlp.weights[0].flatten()\n",
    "w2 = my_mlp.weights[1].flatten()\n",
    "w3 = my_mlp.weights[2].flatten()\n",
    "plt.title('weight distribution')\n",
    "plt.hist(w1, alpha=0.5, label='w1-'+str(len(w1)))\n",
    "plt.hist(w2, alpha=0.5, label='w2-'+str(len(w2)))\n",
    "plt.hist(w3, alpha=0.5, label='w3-'+str(len(w3)))\n",
    "plt.legend()\n",
    "plt.show()"
   ]
  },
  {
   "cell_type": "code",
   "execution_count": 5,
   "metadata": {},
   "outputs": [
    {
     "name": "stdout",
     "output_type": "stream",
     "text": [
      "activation function: sigmoid, loss function: logloss = 0.075, iterations: 100, learning rate: 0.1\n"
     ]
    },
    {
     "data": {
      "image/png": "[encoded data removed]",
      "text/plain": [
       "<Figure size 432x288 with 1 Axes>"
      ]
     },
     "metadata": {
      "needs_background": "light"
     },
     "output_type": "display_data"
    },
    {
     "name": "stdout",
     "output_type": "stream",
     "text": [
      "predicted values\n",
      "[0 0 0 0 0 0 0 0 0 0 0 0 0 0 0 0 0 0 0 0 0 0 0 0 0 0 0 0 0 0 0 0 0 0 0 0 0\n",
      " 0 0 0 0 0 0 0 0 0 0 0 0 0 0 0 0 0 0 0 0 0 0 1 1 1 1 1 1 1 1 1 1 1 1 1 1 1\n",
      " 1 1 1 1 1 1 1 1 1 1 1 1 1 1 1 1 1 1 1 1 1 1 1 1 1 1 1 1 1 1 1 1 1 1 1 1 1\n",
      " 1 1 1 1 1 1 1 1 1 1 1 1 1 1 1 1 1 1 1 2 2 2 2 2 2 2 2 2 2 2 2 2 2 2 2 2 2\n",
      " 2 2 2 2 2 2 2 2 2 2 2 2 2 2 2 2 2 2 2 2 2 2 2 2 2 2 2 2 2 2]\n",
      "target values\n",
      "[0 0 0 0 0 0 0 0 0 0 0 0 0 0 0 0 0 0 0 0 0 0 0 0 0 0 0 0 0 0 0 0 0 0 0 0 0\n",
      " 0 0 0 0 0 0 0 0 0 0 0 0 0 0 0 0 0 0 0 0 0 0 1 1 1 1 1 1 1 1 1 1 1 1 1 1 1\n",
      " 1 1 1 1 1 1 1 1 1 1 1 1 1 1 1 1 1 1 1 1 1 1 1 1 1 1 1 1 1 1 1 1 1 1 1 1 1\n",
      " 1 1 1 1 1 1 1 1 1 1 1 1 1 1 1 1 1 1 1 2 2 2 2 2 2 2 2 2 2 2 2 2 2 2 2 2 2\n",
      " 2 2 2 2 2 2 2 2 2 2 2 2 2 2 2 2 2 2 2 2 2 2 2 2 2 2 2 2 2 2]\n",
      "accuracy after 100 iterations is: 100.0 percent\n"
     ]
    },
    {
     "data": {
      "image/png": "[encoded data removed]",
      "text/plain": [
       "<Figure size 432x288 with 1 Axes>"
      ]
     },
     "metadata": {
      "needs_background": "light"
     },
     "output_type": "display_data"
    }
   ],
   "source": [
    "max_iter=100\n",
    "my_mlp = my_MLPClassifier(hidden=[4,4],max_iter=max_iter,learning_rate=0.1,decay_rate=0.99,\n",
    "                          activation='sigmoid',loss='logloss')\n",
    "my_mlp.fit(x0,y)\n",
    "y_ = my_mlp.predict(x0) # predictions in shape (173,3)\n",
    "print('predicted values')\n",
    "print(y_) \n",
    "print('target values')\n",
    "print(Y) \n",
    "count = 0\n",
    "for i in range(len(y_)):\n",
    "    if y_[i] == Y[i]:\n",
    "        count += 1\n",
    "print('accuracy after %s iterations is: %s percent' %(max_iter,100*round(count/len(y_),3)))\n",
    "\n",
    "# look at distribution of the weights\n",
    "w1 = my_mlp.weights[0].flatten()\n",
    "w2 = my_mlp.weights[1].flatten()\n",
    "w3 = my_mlp.weights[2].flatten()\n",
    "plt.title('weight distribution')\n",
    "plt.hist(w1, alpha=0.5, label='w1-'+str(len(w1)))\n",
    "plt.hist(w2, alpha=0.5, label='w2-'+str(len(w2)))\n",
    "plt.hist(w3, alpha=0.5, label='w3-'+str(len(w3)))\n",
    "plt.legend()\n",
    "plt.show()"
   ]
  },
  {
   "cell_type": "code",
   "execution_count": 6,
   "metadata": {},
   "outputs": [
    {
     "name": "stdout",
     "output_type": "stream",
     "text": [
      "activation function: sigmoid, loss function: mse = 0.009, iterations: 100, learning rate: 0.1\n"
     ]
    },
    {
     "data": {
      "image/png": "[encoded data removed]",
      "text/plain": [
       "<Figure size 432x288 with 1 Axes>"
      ]
     },
     "metadata": {
      "needs_background": "light"
     },
     "output_type": "display_data"
    },
    {
     "name": "stdout",
     "output_type": "stream",
     "text": [
      "predicted values\n",
      "[0 0 0 0 0 0 0 0 0 0 0 0 0 0 0 0 0 0 0 0 0 0 0 0 0 0 0 0 0 0 0 0 0 0 0 0 0\n",
      " 0 0 0 0 0 0 0 0 0 0 0 0 0 0 0 0 0 0 0 0 0 0 1 1 1 1 1 1 1 1 1 2 1 1 1 1 1\n",
      " 1 1 1 1 1 1 1 1 1 1 1 1 1 1 1 1 1 1 1 1 1 1 1 1 1 1 1 1 1 1 1 1 1 1 1 1 1\n",
      " 1 1 1 1 1 1 1 1 1 1 1 1 1 1 1 1 1 1 1 2 2 2 2 2 2 2 2 2 2 2 2 2 2 2 2 2 2\n",
      " 2 2 2 2 2 2 2 2 2 2 2 2 2 2 2 2 2 2 2 2 2 2 2 2 2 2 2 2 2 2]\n",
      "target values\n",
      "[0 0 0 0 0 0 0 0 0 0 0 0 0 0 0 0 0 0 0 0 0 0 0 0 0 0 0 0 0 0 0 0 0 0 0 0 0\n",
      " 0 0 0 0 0 0 0 0 0 0 0 0 0 0 0 0 0 0 0 0 0 0 1 1 1 1 1 1 1 1 1 1 1 1 1 1 1\n",
      " 1 1 1 1 1 1 1 1 1 1 1 1 1 1 1 1 1 1 1 1 1 1 1 1 1 1 1 1 1 1 1 1 1 1 1 1 1\n",
      " 1 1 1 1 1 1 1 1 1 1 1 1 1 1 1 1 1 1 1 2 2 2 2 2 2 2 2 2 2 2 2 2 2 2 2 2 2\n",
      " 2 2 2 2 2 2 2 2 2 2 2 2 2 2 2 2 2 2 2 2 2 2 2 2 2 2 2 2 2 2]\n",
      "accuracy after 100 iterations is: 99.4 percent\n"
     ]
    },
    {
     "data": {
      "image/png": "[encoded data removed]",
      "text/plain": [
       "<Figure size 432x288 with 1 Axes>"
      ]
     },
     "metadata": {
      "needs_background": "light"
     },
     "output_type": "display_data"
    }
   ],
   "source": [
    "max_iter=100\n",
    "my_mlp = my_MLPClassifier(hidden=[4,4],max_iter=max_iter,learning_rate=0.1,decay_rate=0.99,\n",
    "                          activation='sigmoid',loss='mse')\n",
    "my_mlp.fit(x0,y)\n",
    "y_ = my_mlp.predict(x0) # predictions in shape (173,3)\n",
    "print('predicted values')\n",
    "print(y_) \n",
    "print('target values')\n",
    "print(Y) \n",
    "count = 0\n",
    "for i in range(len(y_)):\n",
    "    if y_[i] == Y[i]:\n",
    "        count += 1\n",
    "print('accuracy after %s iterations is: %s percent' %(max_iter,100*round(count/len(y_),3)))\n",
    "\n",
    "# look at distribution of the weights\n",
    "w1 = my_mlp.weights[0].flatten()\n",
    "w2 = my_mlp.weights[1].flatten()\n",
    "w3 = my_mlp.weights[2].flatten()\n",
    "plt.title('weight distribution')\n",
    "plt.hist(w1, alpha=0.5, label='w1-'+str(len(w1)))\n",
    "plt.hist(w2, alpha=0.5, label='w2-'+str(len(w2)))\n",
    "plt.hist(w3, alpha=0.5, label='w3-'+str(len(w3)))\n",
    "plt.legend()\n",
    "plt.show()"
   ]
  },
  {
   "cell_type": "code",
   "execution_count": null,
   "metadata": {},
   "outputs": [],
   "source": []
  },
  {
   "cell_type": "code",
   "execution_count": null,
   "metadata": {},
   "outputs": [],
   "source": []
  }
 ],
 "metadata": {
  "kernelspec": {
   "display_name": "Python 3",
   "language": "python",
   "name": "python3"
  },
  "language_info": {
   "codemirror_mode": {
    "name": "ipython",
    "version": 3
   },
   "file_extension": ".py",
   "mimetype": "text/x-python",
   "name": "python",
   "nbconvert_exporter": "python",
   "pygments_lexer": "ipython3",
   "version": "3.7.1"
  }
 },
 "nbformat": 4,
 "nbformat_minor": 2
}
